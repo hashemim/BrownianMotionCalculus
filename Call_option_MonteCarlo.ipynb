{
 "cells": [
  {
   "cell_type": "markdown",
   "id": "fb8cd077",
   "metadata": {},
   "source": [
    "# Simulating a european call option pricing\n",
    "\n",
    "The following is a code to price an european call option. We use a monte-Carlo\n",
    "approach and compare the results to the exact answer to the solution of the \n",
    "Back-Scholes equation. One can use the exact solution for calibration of the number of time-steps for \n",
    "each realiziation of the browninan motion. \n",
    "\n",
    "To create the brownian motion we define two classes: \n",
    "1. Random process class (randomprocess).\n",
    "2. Brownian motion class which inherits form randomprocess."
   ]
  },
  {
   "cell_type": "code",
   "execution_count": 1,
   "id": "85fe692a",
   "metadata": {},
   "outputs": [],
   "source": [
    "import numpy as np\n",
    "import matplotlib.pyplot as plt\n",
    "from scipy.stats import norm\n",
    "import math"
   ]
  },
  {
   "cell_type": "markdown",
   "id": "56b2b5c6",
   "metadata": {},
   "source": [
    "First we define a set of classes to produce Brownian motion"
   ]
  },
  {
   "cell_type": "code",
   "execution_count": 2,
   "id": "5c17876d",
   "metadata": {},
   "outputs": [],
   "source": [
    "def eye(x): # Test function for which we can calculate the ito integral\n",
    "    return x\n",
    "\n",
    "class randomprocess():\n",
    "    def __init__(self, numsim = 10000, nsteps = 512, Tmax = 1):\n",
    "        self.numsim = numsim\n",
    "        self.nsteps = nsteps\n",
    "        self.Tmax = Tmax\n",
    "        self.deltaT = Tmax/nsteps\n",
    "        self.time = np.arange(1,self.nsteps+1)*self.deltaT\n",
    "        self.steps = None\n",
    "        self.path = None\n",
    "        \n",
    "    def statistics(self):\n",
    "        # This method calculates the mean and variance of the process vs. time\n",
    "        average = np.mean(self.path, axis = 0)\n",
    "        variance = np.var(self.path, axis = 0)\n",
    "        return average, variance\n",
    "\n",
    "    def funcB(self, func):\n",
    "        funcb = np.array(list(map(func, self.path)))\n",
    "        return funcb\n",
    "    \n",
    "    def stochasticINT(self, func):\n",
    "        delBt = np.roll(self.steps,-1)\n",
    "        delBt[:,self.nsteps-1] = 0\n",
    "        funcb = self.funcB(func)\n",
    "        integral = np.sum(funcb*delBt, axis = 1)\n",
    "        return integral\n",
    "\n",
    "class brownian(randomprocess):\n",
    "    # inherits from random process class\n",
    "    def __init__(self, numsim, nsteps = 512, Tmax = 1):\n",
    "        super().__init__(numsim,nsteps,Tmax)\n",
    "        mat = np.triu(np.ones([self.nsteps,self.nsteps]))\n",
    "        self.steps = np.random.normal(0,np.sqrt(self.deltaT),size = [self.numsim,self.nsteps])\n",
    "        self.path = np.matmul(self.steps,mat)"
   ]
  },
  {
   "cell_type": "markdown",
   "id": "c599482d",
   "metadata": {},
   "source": [
    "Now we define the option variables and the parameters of the simulation"
   ]
  },
  {
   "cell_type": "code",
   "execution_count": 3,
   "id": "f26b4526",
   "metadata": {},
   "outputs": [],
   "source": [
    "# Parameters of the option. \n",
    "T = 0.5            # Expiration time (time to expiry)\n",
    "S0 = 550           # Initial stock price\n",
    "K = 650            # strike price\n",
    "r = 0.01           # risk free rate\n",
    "sigma = 0.25       # volatility\n",
    "mu = 1             # drfit of the stock price (not used here)\n",
    "\n",
    "# Parameters for the simulation\n",
    "num = 100          # Number of simulation batches.\n",
    "numsim = 10000     # number of instances in each batch\n",
    "steps = 1024       # Number of time-steps in an instance of the brownian motion"
   ]
  },
  {
   "cell_type": "markdown",
   "id": "4dd913db",
   "metadata": {},
   "source": [
    "We produce the exact solution for comparison and calibraiton"
   ]
  },
  {
   "cell_type": "code",
   "execution_count": 4,
   "id": "350a8567",
   "metadata": {},
   "outputs": [
    {
     "name": "stdout",
     "output_type": "stream",
     "text": [
      "10.243567407037332\n"
     ]
    }
   ],
   "source": [
    "# First we add the exact solution for comparison\n",
    "d1 = np.log(S0/K)+r*T+0.5*T*(sigma**2)\n",
    "d1 = d1/(sigma*np.sqrt(T))\n",
    "d2 = d1 - sigma*np.sqrt(T)\n",
    "exact = S0*norm.cdf(d1) - K*np.exp(-r*T)*norm.cdf(d2)\n",
    "print(exact)    "
   ]
  },
  {
   "cell_type": "markdown",
   "id": "3fbb3a4c",
   "metadata": {},
   "source": [
    "Now we run the simulation"
   ]
  },
  {
   "cell_type": "code",
   "execution_count": 5,
   "id": "538a37ac",
   "metadata": {},
   "outputs": [
    {
     "name": "stdout",
     "output_type": "stream",
     "text": [
      "    1       11.1445341734         8.7954\n",
      "    2       10.5894631267         3.3767\n",
      "    3       10.5006837382           2.51\n",
      "    4       10.4586476653         2.0997\n",
      "    5       10.5299990461         2.7962\n",
      "    6       10.4782378649         2.2909\n",
      "    7       10.3806346262         1.3381\n",
      "    8       10.3260559526        0.80527\n",
      "    9       10.2849326884        0.40382\n",
      "   10       10.2881382682        0.43511\n",
      "   11       10.3180460659        0.72708\n",
      "   12       10.2924223521        0.47693\n",
      "   13       10.3001501973        0.55237\n",
      "   14       10.2592591264        0.15319\n",
      "   15        10.270992616        0.26773\n",
      "   16       10.2435816471     0.00013901\n",
      "   17       10.2499167074       0.061983\n",
      "   18        10.230783396         0.1248\n",
      "   19       10.2151636477        0.27728\n",
      "   20       10.2324053448        0.10897\n",
      "   21       10.2565880631        0.12711\n",
      "   22       10.2532201503       0.094232\n",
      "   23        10.280016228        0.35582\n",
      "   24       10.2713379119         0.2711\n",
      "   25       10.2774297614        0.33057\n",
      "   26       10.2897338014        0.45069\n",
      "   27       10.2940030475        0.49236\n",
      "   28       10.3053678827        0.60331\n",
      "   29       10.2909670075        0.46273\n",
      "   30       10.2818695049        0.37391\n",
      "   31       10.2934468417        0.48693\n",
      "   32       10.2928329963        0.48094\n",
      "   33       10.2972469975        0.52403\n",
      "   34       10.2757315287        0.31399\n",
      "   35       10.2993386019        0.54445\n",
      "   36       10.3065876421        0.61522\n",
      "   37       10.2912519441        0.46551\n",
      "   38       10.2969171257        0.52081\n",
      "   39       10.2892198675        0.44567\n",
      "   40       10.2941155113        0.49346\n",
      "   41       10.2916418972        0.46931\n",
      "   42        10.297462167        0.52613\n",
      "   43       10.2879727188        0.43349\n",
      "   44       10.2890295337        0.44381\n",
      "   45       10.2970659547        0.52226\n",
      "   46       10.3131724897         0.6795\n",
      "   47       10.3150641076        0.69797\n",
      "   48       10.3217199652        0.76294\n",
      "   49       10.3097107058        0.64571\n",
      "   50       10.2988917963        0.54009\n",
      "   51       10.3007101708        0.55784\n",
      "   52       10.2900216527         0.4535\n",
      "   53       10.2876647653        0.43049\n",
      "   54       10.2866402037        0.42049\n",
      "   55        10.283975883        0.39448\n",
      "   56       10.2837860178        0.39262\n",
      "   57       10.2891214085        0.44471\n",
      "   58       10.2884141094         0.4378\n",
      "   59       10.2922332794        0.47509\n",
      "   60       10.2951979498        0.50403\n",
      "   61       10.2898612015        0.45193\n",
      "   62       10.2909689227        0.46274\n",
      "   63       10.2900516414        0.45379\n",
      "   64       10.2975600977        0.52709\n",
      "   65       10.2954358804        0.50635\n",
      "   66       10.2976486978        0.52795\n",
      "   67       10.2943445673         0.4957\n",
      "   68       10.2997885514        0.54884\n",
      "   69        10.294374667        0.49599\n",
      "   70       10.2942960396        0.49522\n",
      "   71        10.292577855        0.47845\n",
      "   72       10.2996499503        0.54749\n",
      "   73       10.3042414732        0.59231\n",
      "   74       10.2971537743        0.52312\n",
      "   75       10.2898605327        0.45192\n",
      "   76       10.2929370341        0.48196\n",
      "   77       10.2929770329        0.48235\n",
      "   78       10.2888075244        0.44164\n",
      "   79       10.2853567175        0.40796\n",
      "   80       10.2808538242          0.364\n",
      "   81       10.2842596427        0.39725\n",
      "   82       10.2846500845        0.40106\n",
      "   83       10.2814283388        0.36961\n",
      "   84       10.2777598031        0.33379\n",
      "   85       10.2830937214        0.38586\n",
      "   86       10.2753857161        0.31062\n",
      "   87       10.2713633873        0.27135\n",
      "   88       10.2754537246        0.31128\n",
      "   89       10.2709106155        0.26693\n",
      "   90       10.2672801217        0.23149\n",
      "   91       10.2743923824        0.30092\n",
      "   92       10.2771425606        0.32777\n",
      "   93       10.2745437537         0.3024\n",
      "   94       10.2741975421        0.29902\n",
      "   95       10.2721904835        0.27942\n",
      "   96       10.2633427637        0.19305\n",
      "   97       10.2649999262        0.20923\n",
      "   98       10.2671889892         0.2306\n",
      "   99       10.2657388582        0.21644\n",
      "  100        10.266973515         0.2285\n",
      "10.243567407037332\n"
     ]
    }
   ],
   "source": [
    "error = []\n",
    "sum = 0\n",
    "for flag in range(1,num+1):\n",
    "    b = brownian(numsim,steps, T)\n",
    "    BhT = b.path[:,steps-1]\n",
    "    STstar = S0*np.exp(-0.5*T*(sigma**2))*np.exp(sigma*BhT)\n",
    "    option = STstar - math.exp(-r*T)*K\n",
    "    option = option * (option>0)\n",
    "    price = np.mean(option)\n",
    "    sum += price\n",
    "    estimate = sum/flag    \n",
    "    errornext = 100*abs((estimate - exact)/exact)    # Error percent in comparison with the exact results\n",
    "    error.append(errornext)\n",
    "    s = f'{flag:5}{estimate:20.12}{errornext:15.5}'\n",
    "    print(s)\n",
    "print(exact)"
   ]
  },
  {
   "cell_type": "markdown",
   "id": "10256435",
   "metadata": {},
   "source": [
    "Finally we plot the error as the function of the number of simulation batches."
   ]
  },
  {
   "cell_type": "code",
   "execution_count": 6,
   "id": "2fee86ed",
   "metadata": {},
   "outputs": [
    {
     "data": {
      "text/plain": [
       "[<matplotlib.lines.Line2D at 0x7fc3836c4040>]"
      ]
     },
     "execution_count": 6,
     "metadata": {},
     "output_type": "execute_result"
    },
    {
     "data": {
      "image/png": "[encoded data removed]",
      "text/plain": [
       "<Figure size 432x288 with 1 Axes>"
      ]
     },
     "metadata": {
      "needs_background": "light"
     },
     "output_type": "display_data"
    }
   ],
   "source": [
    "x = np.array(list(range(num)))\n",
    "plt.plot(x, error)"
   ]
  }
 ],
 "metadata": {
  "kernelspec": {
   "display_name": "Python 3",
   "language": "python",
   "name": "python3"
  },
  "language_info": {
   "codemirror_mode": {
    "name": "ipython",
    "version": 3
   },
   "file_extension": ".py",
   "mimetype": "text/x-python",
   "name": "python",
   "nbconvert_exporter": "python",
   "pygments_lexer": "ipython3",
   "version": "3.8.8"
  }
 },
 "nbformat": 4,
 "nbformat_minor": 5
}
